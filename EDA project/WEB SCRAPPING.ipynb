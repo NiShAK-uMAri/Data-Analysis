{
 "cells": [
  {
   "cell_type": "code",
   "execution_count": 1,
   "id": "4fa05aec",
   "metadata": {},
   "outputs": [],
   "source": [
    "import requests\n",
    "from bs4 import BeautifulSoup\n",
    "import re\n",
    "import pandas as pd\n",
    "import numpy as np\n",
    "import matplotlib.pyplot as plt\n",
    "import seaborn as sns"
   ]
  },
  {
   "cell_type": "code",
   "execution_count": 2,
   "id": "b193e6e6",
   "metadata": {},
   "outputs": [],
   "source": [
    "##Collecting data"
   ]
  },
  {
   "cell_type": "code",
   "execution_count": 4,
   "id": "758c1350",
   "metadata": {},
   "outputs": [],
   "source": [
    "#Title\n",
    "#title=x.find('h3', attrs={'class' : 'lister-item-header'})\n",
    "#dictionary\n",
    "#dic=x.find('p', attrs={'class' : ''})\n",
    "#gross\n",
    "#gro=x.find('p', attrs={'class' : 'sort-num_votes-visible'})\n",
    "#genre    \n",
    "#g=x.find('span', attrs={'class' : 'genre'})\n",
    "#ratings\n",
    "#r=x.find('strong')\n",
    "#certificates\n",
    "#cer=x.find('span', attrs={'class' : 'certificate'})\n",
    "#years\n",
    "#y=x.find('span', attrs={'class' : 'lister-item-year text-muted unbold'})\n",
    "#votes\n",
    "#v=x.find('p', attrs={'class' : 'sort-num_votes-visible'})"
   ]
  },
  {
   "cell_type": "code",
   "execution_count": 5,
   "id": "491a2f1e",
   "metadata": {},
   "outputs": [
    {
     "name": "stdout",
     "output_type": "stream",
     "text": [
      "https://www.imdb.com/search/title/?groups=top_1000&sort=user_rating,desc&start=1\n",
      "https://www.imdb.com/search/title/?groups=top_1000&sort=user_rating,desc&start=51\n",
      "https://www.imdb.com/search/title/?groups=top_1000&sort=user_rating,desc&start=101\n",
      "https://www.imdb.com/search/title/?groups=top_1000&sort=user_rating,desc&start=151\n",
      "https://www.imdb.com/search/title/?groups=top_1000&sort=user_rating,desc&start=201\n",
      "https://www.imdb.com/search/title/?groups=top_1000&sort=user_rating,desc&start=251\n",
      "https://www.imdb.com/search/title/?groups=top_1000&sort=user_rating,desc&start=301\n",
      "https://www.imdb.com/search/title/?groups=top_1000&sort=user_rating,desc&start=351\n"
     ]
    }
   ],
   "source": [
    "url=\"https://www.imdb.com/search/title/?groups=top_1000&sort=user_rating,desc&start=\"\n",
    "title1=[]\n",
    "director=[]\n",
    "gross=[]\n",
    "genre=[]\n",
    "votes=[]\n",
    "ratings=[]\n",
    "certificates=[]\n",
    "years=[]\n",
    "for i in range(1, 401,50):\n",
    "    urls=url+str(i)\n",
    "    print(urls)\n",
    "    data = requests.get(urls)\n",
    "    \n",
    "    soup = BeautifulSoup(data.text)\n",
    "    \n",
    "    for x in soup.find_all(\"div\", attrs={'class' : 'lister-item-content'}):\n",
    "\n",
    "        #Title\n",
    "        title=x.find('h3', attrs={'class' : 'lister-item-header'})\n",
    "        if title is None:\n",
    "            title1.append(np.NaN)\n",
    "        else:\n",
    "            title1.append(title.text.split('\\n')[2])\n",
    "            \n",
    "        #dictionary\n",
    "        dic=x.find('p', attrs={'class' : ''})\n",
    "        if dic is None:\n",
    "            director.append(np.NaN)\n",
    "        else:\n",
    "            director.append(dic.text.split(\"\\n\")[2])\n",
    "            \n",
    "        #gross\n",
    "        gro=x.find('p', attrs={'class' : 'sort-num_votes-visible'})\n",
    "        b=re.findall(\"(\\d+.\\d+)M\",x.text)\n",
    "        if len(b)==0:\n",
    "            gross.append(np.NaN)\n",
    "        else:\n",
    "            gross.append(b[0])\n",
    "            \n",
    "        #genre    \n",
    "        g=x.find('span', attrs={'class' : 'genre'})\n",
    "        if g is None:\n",
    "            genre.append(np.NaN)\n",
    "        else:\n",
    "            genre.append(g.text.split(\"\\n\")[1].split(',')[0])\n",
    "            \n",
    "        #ratings\n",
    "        r=x.find('strong')\n",
    "        if r is None:\n",
    "            ratings.append(np.NaN)\n",
    "        else:\n",
    "            ratings.append(r.text)\n",
    "            \n",
    "        #certificates\n",
    "        cer=x.find('span', attrs={'class' : 'certificate'})\n",
    "        if cer is None:\n",
    "            certificates.append(np.NaN)\n",
    "        else:\n",
    "            certificates.append(cer.text)\n",
    "            \n",
    "        #years\n",
    "        y=x.find('span', attrs={'class' : 'lister-item-year text-muted unbold'})\n",
    "        a=x.text\n",
    "        b=re.findall(r\"(\\d{4})\", y.text)\n",
    "        if len(b)>0== None:\n",
    "            years.append(np.NaN)\n",
    "        else:\n",
    "            years.append(b[0])\n",
    "            \n",
    "        #votes\n",
    "        v=x.find('p', attrs={'class' : 'sort-num_votes-visible'})\n",
    "        if v is None:\n",
    "            votes.append(np.NaN)\n",
    "        else:\n",
    "            votes.append(v.text.split(\"\\n\")[2])\n"
   ]
  },
  {
   "cell_type": "code",
   "execution_count": 6,
   "id": "166bcca4",
   "metadata": {},
   "outputs": [
    {
     "name": "stdout",
     "output_type": "stream",
     "text": [
      "400\n",
      "400\n",
      "400\n",
      "400\n",
      "400\n",
      "400\n",
      "400\n",
      "400\n"
     ]
    }
   ],
   "source": [
    "print(len(title1))\n",
    "print(len(director))\n",
    "print(len(gross))\n",
    "print(len(genre))\n",
    "print(len(votes))\n",
    "print(len(ratings))\n",
    "print(len(certificates))\n",
    "print(len(years))"
   ]
  },
  {
   "cell_type": "code",
   "execution_count": 7,
   "id": "7ce36fe7",
   "metadata": {},
   "outputs": [],
   "source": [
    "df = pd.DataFrame({\n",
    "    'Movie_Titles':title1,\n",
    "    'Director':director,\n",
    "    'Genre':genre,\n",
    "    'IMDB_Ratings':ratings,\n",
    "    'Votes':votes,\n",
    "    'Certificate':certificates,\n",
    "    'Gross':gross,\n",
    "    'Years':years\n",
    "    \n",
    "})"
   ]
  },
  {
   "cell_type": "code",
   "execution_count": 8,
   "id": "ba1b5472",
   "metadata": {},
   "outputs": [
    {
     "data": {
      "text/html": [
       "<div>\n",
       "<style scoped>\n",
       "    .dataframe tbody tr th:only-of-type {\n",
       "        vertical-align: middle;\n",
       "    }\n",
       "\n",
       "    .dataframe tbody tr th {\n",
       "        vertical-align: top;\n",
       "    }\n",
       "\n",
       "    .dataframe thead th {\n",
       "        text-align: right;\n",
       "    }\n",
       "</style>\n",
       "<table border=\"1\" class=\"dataframe\">\n",
       "  <thead>\n",
       "    <tr style=\"text-align: right;\">\n",
       "      <th></th>\n",
       "      <th>Movie_Titles</th>\n",
       "      <th>Director</th>\n",
       "      <th>Genre</th>\n",
       "      <th>IMDB_Ratings</th>\n",
       "      <th>Votes</th>\n",
       "      <th>Certificate</th>\n",
       "      <th>Gross</th>\n",
       "      <th>Years</th>\n",
       "    </tr>\n",
       "  </thead>\n",
       "  <tbody>\n",
       "    <tr>\n",
       "      <th>0</th>\n",
       "      <td>The Shawshank Redemption</td>\n",
       "      <td>Frank Darabont</td>\n",
       "      <td>Drama</td>\n",
       "      <td>9.3</td>\n",
       "      <td>2,614,970</td>\n",
       "      <td>A</td>\n",
       "      <td>28.34</td>\n",
       "      <td>1994</td>\n",
       "    </tr>\n",
       "    <tr>\n",
       "      <th>1</th>\n",
       "      <td>The Godfather</td>\n",
       "      <td>Francis Ford Coppola</td>\n",
       "      <td>Crime</td>\n",
       "      <td>9.2</td>\n",
       "      <td>1,810,374</td>\n",
       "      <td>A</td>\n",
       "      <td>134.97</td>\n",
       "      <td>1972</td>\n",
       "    </tr>\n",
       "    <tr>\n",
       "      <th>2</th>\n",
       "      <td>The Dark Knight</td>\n",
       "      <td>Christopher Nolan</td>\n",
       "      <td>Action</td>\n",
       "      <td>9.0</td>\n",
       "      <td>2,587,139</td>\n",
       "      <td>UA</td>\n",
       "      <td>534.86</td>\n",
       "      <td>2008</td>\n",
       "    </tr>\n",
       "    <tr>\n",
       "      <th>3</th>\n",
       "      <td>The Lord of the Rings: The Return of the King</td>\n",
       "      <td>Peter Jackson</td>\n",
       "      <td>Action</td>\n",
       "      <td>9.0</td>\n",
       "      <td>1,794,699</td>\n",
       "      <td>U</td>\n",
       "      <td>377.85</td>\n",
       "      <td>2003</td>\n",
       "    </tr>\n",
       "    <tr>\n",
       "      <th>4</th>\n",
       "      <td>Schindler's List</td>\n",
       "      <td>Steven Spielberg</td>\n",
       "      <td>Biography</td>\n",
       "      <td>9.0</td>\n",
       "      <td>1,328,819</td>\n",
       "      <td>A</td>\n",
       "      <td>96.90</td>\n",
       "      <td>1993</td>\n",
       "    </tr>\n",
       "    <tr>\n",
       "      <th>...</th>\n",
       "      <td>...</td>\n",
       "      <td>...</td>\n",
       "      <td>...</td>\n",
       "      <td>...</td>\n",
       "      <td>...</td>\n",
       "      <td>...</td>\n",
       "      <td>...</td>\n",
       "      <td>...</td>\n",
       "    </tr>\n",
       "    <tr>\n",
       "      <th>395</th>\n",
       "      <td>Central do Brasil</td>\n",
       "      <td>Walter Salles</td>\n",
       "      <td>Drama</td>\n",
       "      <td>8.0</td>\n",
       "      <td>39,517</td>\n",
       "      <td>R</td>\n",
       "      <td>5.60</td>\n",
       "      <td>1998</td>\n",
       "    </tr>\n",
       "    <tr>\n",
       "      <th>396</th>\n",
       "      <td>La leggenda del pianista sull'oceano</td>\n",
       "      <td>Giuseppe Tornatore</td>\n",
       "      <td>Drama</td>\n",
       "      <td>8.0</td>\n",
       "      <td>63,966</td>\n",
       "      <td>Not Rated</td>\n",
       "      <td>0.26</td>\n",
       "      <td>1998</td>\n",
       "    </tr>\n",
       "    <tr>\n",
       "      <th>397</th>\n",
       "      <td>Crna macka, beli macor</td>\n",
       "      <td>Emir Kusturica</td>\n",
       "      <td>Comedy</td>\n",
       "      <td>8.0</td>\n",
       "      <td>53,595</td>\n",
       "      <td>R</td>\n",
       "      <td>0.35</td>\n",
       "      <td>1998</td>\n",
       "    </tr>\n",
       "    <tr>\n",
       "      <th>398</th>\n",
       "      <td>Sling Blade</td>\n",
       "      <td>Billy Bob Thornton</td>\n",
       "      <td>Drama</td>\n",
       "      <td>8.0</td>\n",
       "      <td>93,627</td>\n",
       "      <td>R</td>\n",
       "      <td>24.48</td>\n",
       "      <td>1996</td>\n",
       "    </tr>\n",
       "    <tr>\n",
       "      <th>399</th>\n",
       "      <td>Secrets &amp; Lies</td>\n",
       "      <td>Mike Leigh</td>\n",
       "      <td>Comedy</td>\n",
       "      <td>8.0</td>\n",
       "      <td>43,180</td>\n",
       "      <td>U</td>\n",
       "      <td>13.42</td>\n",
       "      <td>1996</td>\n",
       "    </tr>\n",
       "  </tbody>\n",
       "</table>\n",
       "<p>400 rows × 8 columns</p>\n",
       "</div>"
      ],
      "text/plain": [
       "                                      Movie_Titles              Director  \\\n",
       "0                         The Shawshank Redemption        Frank Darabont   \n",
       "1                                    The Godfather  Francis Ford Coppola   \n",
       "2                                  The Dark Knight     Christopher Nolan   \n",
       "3    The Lord of the Rings: The Return of the King         Peter Jackson   \n",
       "4                                 Schindler's List      Steven Spielberg   \n",
       "..                                             ...                   ...   \n",
       "395                              Central do Brasil         Walter Salles   \n",
       "396           La leggenda del pianista sull'oceano    Giuseppe Tornatore   \n",
       "397                         Crna macka, beli macor        Emir Kusturica   \n",
       "398                                    Sling Blade    Billy Bob Thornton   \n",
       "399                                 Secrets & Lies            Mike Leigh   \n",
       "\n",
       "                 Genre IMDB_Ratings      Votes Certificate   Gross Years  \n",
       "0    Drama                      9.3  2,614,970           A   28.34  1994  \n",
       "1                Crime          9.2  1,810,374           A  134.97  1972  \n",
       "2               Action          9.0  2,587,139          UA  534.86  2008  \n",
       "3               Action          9.0  1,794,699           U  377.85  2003  \n",
       "4            Biography          9.0  1,328,819           A   96.90  1993  \n",
       "..                 ...          ...        ...         ...     ...   ...  \n",
       "395  Drama                      8.0     39,517           R    5.60  1998  \n",
       "396              Drama          8.0     63,966   Not Rated    0.26  1998  \n",
       "397             Comedy          8.0     53,595           R    0.35  1998  \n",
       "398  Drama                      8.0     93,627           R   24.48  1996  \n",
       "399             Comedy          8.0     43,180           U   13.42  1996  \n",
       "\n",
       "[400 rows x 8 columns]"
      ]
     },
     "execution_count": 8,
     "metadata": {},
     "output_type": "execute_result"
    }
   ],
   "source": [
    "#Dataframe\n",
    "df"
   ]
  },
  {
   "cell_type": "code",
   "execution_count": 9,
   "id": "616bcb11",
   "metadata": {},
   "outputs": [],
   "source": [
    "#Data Cleaning"
   ]
  },
  {
   "cell_type": "code",
   "execution_count": 10,
   "id": "db850ec8",
   "metadata": {},
   "outputs": [
    {
     "data": {
      "text/plain": [
       "(400, 8)"
      ]
     },
     "execution_count": 10,
     "metadata": {},
     "output_type": "execute_result"
    }
   ],
   "source": [
    "df.shape"
   ]
  },
  {
   "cell_type": "code",
   "execution_count": 11,
   "id": "21dfb7e6",
   "metadata": {},
   "outputs": [
    {
     "data": {
      "text/html": [
       "<div>\n",
       "<style scoped>\n",
       "    .dataframe tbody tr th:only-of-type {\n",
       "        vertical-align: middle;\n",
       "    }\n",
       "\n",
       "    .dataframe tbody tr th {\n",
       "        vertical-align: top;\n",
       "    }\n",
       "\n",
       "    .dataframe thead th {\n",
       "        text-align: right;\n",
       "    }\n",
       "</style>\n",
       "<table border=\"1\" class=\"dataframe\">\n",
       "  <thead>\n",
       "    <tr style=\"text-align: right;\">\n",
       "      <th></th>\n",
       "      <th>Movie_Titles</th>\n",
       "      <th>Director</th>\n",
       "      <th>Genre</th>\n",
       "      <th>IMDB_Ratings</th>\n",
       "      <th>Votes</th>\n",
       "      <th>Certificate</th>\n",
       "      <th>Gross</th>\n",
       "      <th>Years</th>\n",
       "    </tr>\n",
       "  </thead>\n",
       "  <tbody>\n",
       "    <tr>\n",
       "      <th>count</th>\n",
       "      <td>400</td>\n",
       "      <td>400</td>\n",
       "      <td>400</td>\n",
       "      <td>400</td>\n",
       "      <td>400</td>\n",
       "      <td>349</td>\n",
       "      <td>320</td>\n",
       "      <td>400</td>\n",
       "    </tr>\n",
       "    <tr>\n",
       "      <th>unique</th>\n",
       "      <td>399</td>\n",
       "      <td>266</td>\n",
       "      <td>13</td>\n",
       "      <td>13</td>\n",
       "      <td>400</td>\n",
       "      <td>17</td>\n",
       "      <td>291</td>\n",
       "      <td>90</td>\n",
       "    </tr>\n",
       "    <tr>\n",
       "      <th>top</th>\n",
       "      <td>Drishyam</td>\n",
       "      <td>Akira Kurosawa</td>\n",
       "      <td>Action</td>\n",
       "      <td>8.1</td>\n",
       "      <td>2,614,970</td>\n",
       "      <td>U</td>\n",
       "      <td>0.01</td>\n",
       "      <td>2004</td>\n",
       "    </tr>\n",
       "    <tr>\n",
       "      <th>freq</th>\n",
       "      <td>2</td>\n",
       "      <td>9</td>\n",
       "      <td>82</td>\n",
       "      <td>128</td>\n",
       "      <td>1</td>\n",
       "      <td>115</td>\n",
       "      <td>5</td>\n",
       "      <td>13</td>\n",
       "    </tr>\n",
       "  </tbody>\n",
       "</table>\n",
       "</div>"
      ],
      "text/plain": [
       "       Movie_Titles        Director   Genre IMDB_Ratings      Votes  \\\n",
       "count           400             400     400          400        400   \n",
       "unique          399             266      13           13        400   \n",
       "top        Drishyam  Akira Kurosawa  Action          8.1  2,614,970   \n",
       "freq              2               9      82          128          1   \n",
       "\n",
       "       Certificate Gross Years  \n",
       "count          349   320   400  \n",
       "unique          17   291    90  \n",
       "top              U  0.01  2004  \n",
       "freq           115     5    13  "
      ]
     },
     "execution_count": 11,
     "metadata": {},
     "output_type": "execute_result"
    }
   ],
   "source": [
    "df.describe()"
   ]
  },
  {
   "cell_type": "code",
   "execution_count": 12,
   "id": "8c8235f1",
   "metadata": {},
   "outputs": [
    {
     "data": {
      "text/plain": [
       "Movie_Titles     0\n",
       "Director         0\n",
       "Genre            0\n",
       "IMDB_Ratings     0\n",
       "Votes            0\n",
       "Certificate     51\n",
       "Gross           80\n",
       "Years            0\n",
       "dtype: int64"
      ]
     },
     "execution_count": 12,
     "metadata": {},
     "output_type": "execute_result"
    }
   ],
   "source": [
    "df.isnull().sum()"
   ]
  },
  {
   "cell_type": "code",
   "execution_count": 13,
   "id": "d282b2e7",
   "metadata": {},
   "outputs": [
    {
     "name": "stdout",
     "output_type": "stream",
     "text": [
      "<class 'pandas.core.frame.DataFrame'>\n",
      "RangeIndex: 400 entries, 0 to 399\n",
      "Data columns (total 8 columns):\n",
      " #   Column        Non-Null Count  Dtype \n",
      "---  ------        --------------  ----- \n",
      " 0   Movie_Titles  400 non-null    object\n",
      " 1   Director      400 non-null    object\n",
      " 2   Genre         400 non-null    object\n",
      " 3   IMDB_Ratings  400 non-null    object\n",
      " 4   Votes         400 non-null    object\n",
      " 5   Certificate   349 non-null    object\n",
      " 6   Gross         320 non-null    object\n",
      " 7   Years         400 non-null    object\n",
      "dtypes: object(8)\n",
      "memory usage: 25.1+ KB\n"
     ]
    }
   ],
   "source": [
    "df.info()"
   ]
  },
  {
   "cell_type": "code",
   "execution_count": 14,
   "id": "7187ca98",
   "metadata": {},
   "outputs": [],
   "source": [
    "# Filling Missing Values"
   ]
  },
  {
   "cell_type": "code",
   "execution_count": 15,
   "id": "b01de6bb",
   "metadata": {},
   "outputs": [
    {
     "data": {
      "text/html": [
       "<div>\n",
       "<style scoped>\n",
       "    .dataframe tbody tr th:only-of-type {\n",
       "        vertical-align: middle;\n",
       "    }\n",
       "\n",
       "    .dataframe tbody tr th {\n",
       "        vertical-align: top;\n",
       "    }\n",
       "\n",
       "    .dataframe thead th {\n",
       "        text-align: right;\n",
       "    }\n",
       "</style>\n",
       "<table border=\"1\" class=\"dataframe\">\n",
       "  <thead>\n",
       "    <tr style=\"text-align: right;\">\n",
       "      <th></th>\n",
       "      <th>Movie_Titles</th>\n",
       "      <th>Director</th>\n",
       "      <th>Genre</th>\n",
       "      <th>IMDB_Ratings</th>\n",
       "      <th>Votes</th>\n",
       "      <th>Certificate</th>\n",
       "      <th>Gross</th>\n",
       "      <th>Years</th>\n",
       "    </tr>\n",
       "  </thead>\n",
       "  <tbody>\n",
       "    <tr>\n",
       "      <th>0</th>\n",
       "      <td>The Shawshank Redemption</td>\n",
       "      <td>Frank Darabont</td>\n",
       "      <td>Drama</td>\n",
       "      <td>9.3</td>\n",
       "      <td>2,614,970</td>\n",
       "      <td>A</td>\n",
       "      <td>28.34</td>\n",
       "      <td>1994</td>\n",
       "    </tr>\n",
       "    <tr>\n",
       "      <th>1</th>\n",
       "      <td>The Godfather</td>\n",
       "      <td>Francis Ford Coppola</td>\n",
       "      <td>Crime</td>\n",
       "      <td>9.2</td>\n",
       "      <td>1,810,374</td>\n",
       "      <td>A</td>\n",
       "      <td>134.97</td>\n",
       "      <td>1972</td>\n",
       "    </tr>\n",
       "    <tr>\n",
       "      <th>2</th>\n",
       "      <td>The Dark Knight</td>\n",
       "      <td>Christopher Nolan</td>\n",
       "      <td>Action</td>\n",
       "      <td>9.0</td>\n",
       "      <td>2,587,139</td>\n",
       "      <td>UA</td>\n",
       "      <td>534.86</td>\n",
       "      <td>2008</td>\n",
       "    </tr>\n",
       "    <tr>\n",
       "      <th>3</th>\n",
       "      <td>The Lord of the Rings: The Return of the King</td>\n",
       "      <td>Peter Jackson</td>\n",
       "      <td>Action</td>\n",
       "      <td>9.0</td>\n",
       "      <td>1,794,699</td>\n",
       "      <td>U</td>\n",
       "      <td>377.85</td>\n",
       "      <td>2003</td>\n",
       "    </tr>\n",
       "    <tr>\n",
       "      <th>4</th>\n",
       "      <td>Schindler's List</td>\n",
       "      <td>Steven Spielberg</td>\n",
       "      <td>Biography</td>\n",
       "      <td>9.0</td>\n",
       "      <td>1,328,819</td>\n",
       "      <td>A</td>\n",
       "      <td>96.90</td>\n",
       "      <td>1993</td>\n",
       "    </tr>\n",
       "    <tr>\n",
       "      <th>...</th>\n",
       "      <td>...</td>\n",
       "      <td>...</td>\n",
       "      <td>...</td>\n",
       "      <td>...</td>\n",
       "      <td>...</td>\n",
       "      <td>...</td>\n",
       "      <td>...</td>\n",
       "      <td>...</td>\n",
       "    </tr>\n",
       "    <tr>\n",
       "      <th>395</th>\n",
       "      <td>Central do Brasil</td>\n",
       "      <td>Walter Salles</td>\n",
       "      <td>Drama</td>\n",
       "      <td>8.0</td>\n",
       "      <td>39,517</td>\n",
       "      <td>R</td>\n",
       "      <td>5.60</td>\n",
       "      <td>1998</td>\n",
       "    </tr>\n",
       "    <tr>\n",
       "      <th>396</th>\n",
       "      <td>La leggenda del pianista sull'oceano</td>\n",
       "      <td>Giuseppe Tornatore</td>\n",
       "      <td>Drama</td>\n",
       "      <td>8.0</td>\n",
       "      <td>63,966</td>\n",
       "      <td>Not Rated</td>\n",
       "      <td>0.26</td>\n",
       "      <td>1998</td>\n",
       "    </tr>\n",
       "    <tr>\n",
       "      <th>397</th>\n",
       "      <td>Crna macka, beli macor</td>\n",
       "      <td>Emir Kusturica</td>\n",
       "      <td>Comedy</td>\n",
       "      <td>8.0</td>\n",
       "      <td>53,595</td>\n",
       "      <td>R</td>\n",
       "      <td>0.35</td>\n",
       "      <td>1998</td>\n",
       "    </tr>\n",
       "    <tr>\n",
       "      <th>398</th>\n",
       "      <td>Sling Blade</td>\n",
       "      <td>Billy Bob Thornton</td>\n",
       "      <td>Drama</td>\n",
       "      <td>8.0</td>\n",
       "      <td>93,627</td>\n",
       "      <td>R</td>\n",
       "      <td>24.48</td>\n",
       "      <td>1996</td>\n",
       "    </tr>\n",
       "    <tr>\n",
       "      <th>399</th>\n",
       "      <td>Secrets &amp; Lies</td>\n",
       "      <td>Mike Leigh</td>\n",
       "      <td>Comedy</td>\n",
       "      <td>8.0</td>\n",
       "      <td>43,180</td>\n",
       "      <td>U</td>\n",
       "      <td>13.42</td>\n",
       "      <td>1996</td>\n",
       "    </tr>\n",
       "  </tbody>\n",
       "</table>\n",
       "<p>400 rows × 8 columns</p>\n",
       "</div>"
      ],
      "text/plain": [
       "                                      Movie_Titles              Director  \\\n",
       "0                         The Shawshank Redemption        Frank Darabont   \n",
       "1                                    The Godfather  Francis Ford Coppola   \n",
       "2                                  The Dark Knight     Christopher Nolan   \n",
       "3    The Lord of the Rings: The Return of the King         Peter Jackson   \n",
       "4                                 Schindler's List      Steven Spielberg   \n",
       "..                                             ...                   ...   \n",
       "395                              Central do Brasil         Walter Salles   \n",
       "396           La leggenda del pianista sull'oceano    Giuseppe Tornatore   \n",
       "397                         Crna macka, beli macor        Emir Kusturica   \n",
       "398                                    Sling Blade    Billy Bob Thornton   \n",
       "399                                 Secrets & Lies            Mike Leigh   \n",
       "\n",
       "                 Genre IMDB_Ratings      Votes Certificate   Gross Years  \n",
       "0    Drama                      9.3  2,614,970           A   28.34  1994  \n",
       "1                Crime          9.2  1,810,374           A  134.97  1972  \n",
       "2               Action          9.0  2,587,139          UA  534.86  2008  \n",
       "3               Action          9.0  1,794,699           U  377.85  2003  \n",
       "4            Biography          9.0  1,328,819           A   96.90  1993  \n",
       "..                 ...          ...        ...         ...     ...   ...  \n",
       "395  Drama                      8.0     39,517           R    5.60  1998  \n",
       "396              Drama          8.0     63,966   Not Rated    0.26  1998  \n",
       "397             Comedy          8.0     53,595           R    0.35  1998  \n",
       "398  Drama                      8.0     93,627           R   24.48  1996  \n",
       "399             Comedy          8.0     43,180           U   13.42  1996  \n",
       "\n",
       "[400 rows x 8 columns]"
      ]
     },
     "execution_count": 15,
     "metadata": {},
     "output_type": "execute_result"
    }
   ],
   "source": [
    "df"
   ]
  },
  {
   "cell_type": "code",
   "execution_count": 16,
   "id": "864937de",
   "metadata": {},
   "outputs": [],
   "source": [
    "df['Certificate'] = df['Certificate'].fillna(\" \")"
   ]
  },
  {
   "cell_type": "code",
   "execution_count": 20,
   "id": "505e0441",
   "metadata": {},
   "outputs": [],
   "source": [
    "df1=df['Gross'].mean()"
   ]
  },
  {
   "cell_type": "code",
   "execution_count": 21,
   "id": "5d7ae398",
   "metadata": {},
   "outputs": [],
   "source": [
    "df['Gross'] = df['Gross'].fillna(df1)"
   ]
  },
  {
   "cell_type": "code",
   "execution_count": 22,
   "id": "e3235892",
   "metadata": {},
   "outputs": [],
   "source": [
    "# converting Data Values to respective Dtypes"
   ]
  },
  {
   "cell_type": "code",
   "execution_count": 23,
   "id": "456002e2",
   "metadata": {},
   "outputs": [
    {
     "data": {
      "text/plain": [
       "0      9.3\n",
       "1      9.2\n",
       "2      9.0\n",
       "3      9.0\n",
       "4      9.0\n",
       "      ... \n",
       "395    8.0\n",
       "396    8.0\n",
       "397    8.0\n",
       "398    8.0\n",
       "399    8.0\n",
       "Name: IMDB_Ratings, Length: 400, dtype: float64"
      ]
     },
     "execution_count": 23,
     "metadata": {},
     "output_type": "execute_result"
    }
   ],
   "source": [
    "df['IMDB_Ratings'].astype('float')"
   ]
  },
  {
   "cell_type": "code",
   "execution_count": 24,
   "id": "a6d0132a",
   "metadata": {},
   "outputs": [],
   "source": [
    "df['IMDB_Ratings']=df['IMDB_Ratings'].astype('float')"
   ]
  },
  {
   "cell_type": "code",
   "execution_count": 25,
   "id": "9868dbcb",
   "metadata": {},
   "outputs": [],
   "source": [
    "v = []\n",
    "for i in df['Votes']:\n",
    "    v.append(i.replace(\",\",''))\n",
    "    \n",
    "df['Votes'] = v"
   ]
  },
  {
   "cell_type": "code",
   "execution_count": 26,
   "id": "e5b46660",
   "metadata": {},
   "outputs": [],
   "source": [
    "df['Votes']=df['Votes'].astype('int')"
   ]
  },
  {
   "cell_type": "code",
   "execution_count": 27,
   "id": "340bb663",
   "metadata": {},
   "outputs": [],
   "source": [
    "df['Years']=df['Years'].astype('int')"
   ]
  },
  {
   "cell_type": "code",
   "execution_count": 28,
   "id": "6bdac595",
   "metadata": {},
   "outputs": [
    {
     "name": "stdout",
     "output_type": "stream",
     "text": [
      "<class 'pandas.core.frame.DataFrame'>\n",
      "RangeIndex: 400 entries, 0 to 399\n",
      "Data columns (total 8 columns):\n",
      " #   Column        Non-Null Count  Dtype  \n",
      "---  ------        --------------  -----  \n",
      " 0   Movie_Titles  400 non-null    object \n",
      " 1   Director      400 non-null    object \n",
      " 2   Genre         400 non-null    object \n",
      " 3   IMDB_Ratings  400 non-null    float64\n",
      " 4   Votes         400 non-null    int32  \n",
      " 5   Certificate   400 non-null    object \n",
      " 6   Gross         400 non-null    float64\n",
      " 7   Years         400 non-null    int32  \n",
      "dtypes: float64(2), int32(2), object(4)\n",
      "memory usage: 22.0+ KB\n"
     ]
    }
   ],
   "source": [
    "df.info()"
   ]
  },
  {
   "cell_type": "code",
   "execution_count": 29,
   "id": "455fa900",
   "metadata": {},
   "outputs": [],
   "source": [
    "df.to_csv('Movie Analysis.csv')"
   ]
  },
  {
   "cell_type": "code",
   "execution_count": 30,
   "id": "ff26145b",
   "metadata": {},
   "outputs": [],
   "source": [
    "df=pd.read_csv('Movie Analysis.csv')"
   ]
  },
  {
   "cell_type": "code",
   "execution_count": 31,
   "id": "040d7f7c",
   "metadata": {},
   "outputs": [
    {
     "name": "stdout",
     "output_type": "stream",
     "text": [
      "<class 'pandas.core.frame.DataFrame'>\n",
      "RangeIndex: 400 entries, 0 to 399\n",
      "Data columns (total 9 columns):\n",
      " #   Column        Non-Null Count  Dtype  \n",
      "---  ------        --------------  -----  \n",
      " 0   Unnamed: 0    400 non-null    int64  \n",
      " 1   Movie_Titles  400 non-null    object \n",
      " 2   Director      400 non-null    object \n",
      " 3   Genre         400 non-null    object \n",
      " 4   IMDB_Ratings  400 non-null    float64\n",
      " 5   Votes         400 non-null    int64  \n",
      " 6   Certificate   400 non-null    object \n",
      " 7   Gross         400 non-null    float64\n",
      " 8   Years         400 non-null    int64  \n",
      "dtypes: float64(2), int64(3), object(4)\n",
      "memory usage: 28.2+ KB\n"
     ]
    }
   ],
   "source": [
    "df.info()"
   ]
  },
  {
   "cell_type": "code",
   "execution_count": 32,
   "id": "5655139b",
   "metadata": {},
   "outputs": [],
   "source": [
    "df['Gross']=df['Gross'].astype('float')"
   ]
  },
  {
   "cell_type": "code",
   "execution_count": 33,
   "id": "b21a44b5",
   "metadata": {},
   "outputs": [
    {
     "name": "stdout",
     "output_type": "stream",
     "text": [
      "<class 'pandas.core.frame.DataFrame'>\n",
      "RangeIndex: 400 entries, 0 to 399\n",
      "Data columns (total 9 columns):\n",
      " #   Column        Non-Null Count  Dtype  \n",
      "---  ------        --------------  -----  \n",
      " 0   Unnamed: 0    400 non-null    int64  \n",
      " 1   Movie_Titles  400 non-null    object \n",
      " 2   Director      400 non-null    object \n",
      " 3   Genre         400 non-null    object \n",
      " 4   IMDB_Ratings  400 non-null    float64\n",
      " 5   Votes         400 non-null    int64  \n",
      " 6   Certificate   400 non-null    object \n",
      " 7   Gross         400 non-null    float64\n",
      " 8   Years         400 non-null    int64  \n",
      "dtypes: float64(2), int64(3), object(4)\n",
      "memory usage: 28.2+ KB\n"
     ]
    }
   ],
   "source": [
    "df.info()"
   ]
  },
  {
   "cell_type": "code",
   "execution_count": 34,
   "id": "36f72b05",
   "metadata": {},
   "outputs": [],
   "source": [
    "#Data Analysis"
   ]
  },
  {
   "cell_type": "code",
   "execution_count": 35,
   "id": "6df28627",
   "metadata": {},
   "outputs": [],
   "source": [
    "#EDA\n",
    "import matplotlib.pyplot as plt\n",
    "import seaborn as sns"
   ]
  },
  {
   "cell_type": "code",
   "execution_count": 36,
   "id": "0b208f6d",
   "metadata": {},
   "outputs": [],
   "source": [
    "#Univariate Analysis"
   ]
  },
  {
   "cell_type": "code",
   "execution_count": 37,
   "id": "5e2d48a0",
   "metadata": {},
   "outputs": [
    {
     "data": {
      "text/plain": [
       "Index(['Unnamed: 0', 'Movie_Titles', 'Director', 'Genre', 'IMDB_Ratings',\n",
       "       'Votes', 'Certificate', 'Gross', 'Years'],\n",
       "      dtype='object')"
      ]
     },
     "execution_count": 37,
     "metadata": {},
     "output_type": "execute_result"
    }
   ],
   "source": [
    "df.columns"
   ]
  },
  {
   "cell_type": "code",
   "execution_count": 38,
   "id": "dbc43c7f",
   "metadata": {},
   "outputs": [
    {
     "data": {
      "text/plain": [
       "U            115\n",
       "UA            91\n",
       "A             90\n",
       "              51\n",
       "R             21\n",
       "18             6\n",
       "7              4\n",
       "PG-13          4\n",
       "PG             3\n",
       "16             3\n",
       "Not Rated      3\n",
       "G              2\n",
       "13             2\n",
       "UA 13+         1\n",
       "15+            1\n",
       "M/PG           1\n",
       "Unrated        1\n",
       "12+            1\n",
       "Name: Certificate, dtype: int64"
      ]
     },
     "execution_count": 38,
     "metadata": {},
     "output_type": "execute_result"
    }
   ],
   "source": [
    "df['Certificate'].value_counts()"
   ]
  },
  {
   "cell_type": "code",
   "execution_count": 39,
   "id": "f71f77d7",
   "metadata": {},
   "outputs": [
    {
     "name": "stderr",
     "output_type": "stream",
     "text": [
      "C:\\Users\\lenovo\\Documents\\anaconda\\lib\\site-packages\\seaborn\\_decorators.py:36: FutureWarning: Pass the following variable as a keyword arg: x. From version 0.12, the only valid positional argument will be `data`, and passing other arguments without an explicit keyword will result in an error or misinterpretation.\n",
      "  warnings.warn(\n"
     ]
    },
    {
     "data": {
      "image/png": "[encoded data removed]",
      "text/plain": [
       "<Figure size 1080x432 with 1 Axes>"
      ]
     },
     "metadata": {
      "needs_background": "light"
     },
     "output_type": "display_data"
    }
   ],
   "source": [
    "plt.figure(figsize = (15, 6))\n",
    "sns.countplot(df['Certificate'])\n",
    "plt.title(' Distribution based on certificate')\n",
    "plt.xlabel('Certificates')\n",
    "plt.ylabel('Count')\n",
    "plt.show()"
   ]
  },
  {
   "cell_type": "code",
   "execution_count": 40,
   "id": "2032ca83",
   "metadata": {},
   "outputs": [],
   "source": [
    "Genre_count= df.Genre.value_counts().head(10)"
   ]
  },
  {
   "cell_type": "code",
   "execution_count": 41,
   "id": "4ebcbcf0",
   "metadata": {},
   "outputs": [],
   "source": [
    "Genre_count=Genre_count.drop('Drama')"
   ]
  },
  {
   "cell_type": "code",
   "execution_count": 42,
   "id": "273596ab",
   "metadata": {},
   "outputs": [
    {
     "data": {
      "image/png": "[encoded data removed]",
      "text/plain": [
       "<Figure size 720x720 with 1 Axes>"
      ]
     },
     "metadata": {},
     "output_type": "display_data"
    }
   ],
   "source": [
    "#Genre Distribution\n",
    "Genre_count.plot(kind='pie', figsize=(10,10), autopct='%1.1f%%')\n",
    "plt.title('GENRE DISTRIBUTION')\n",
    "plt.show()"
   ]
  },
  {
   "cell_type": "code",
   "execution_count": 43,
   "id": "be742637",
   "metadata": {},
   "outputs": [],
   "source": [
    "year_count= df.Years.value_counts().head(20)"
   ]
  },
  {
   "cell_type": "code",
   "execution_count": 44,
   "id": "04972b34",
   "metadata": {},
   "outputs": [
    {
     "data": {
      "text/plain": [
       "2004    13\n",
       "2019    13\n",
       "2014    12\n",
       "2016    11\n",
       "2012    11\n",
       "2015    11\n",
       "2013    11\n",
       "2001    10\n",
       "2007    10\n",
       "1998    10\n",
       "2018    10\n",
       "2006    10\n",
       "2003    10\n",
       "2010     9\n",
       "1995     9\n",
       "1999     9\n",
       "2021     8\n",
       "1957     8\n",
       "1997     7\n",
       "2000     7\n",
       "Name: Years, dtype: int64"
      ]
     },
     "execution_count": 44,
     "metadata": {},
     "output_type": "execute_result"
    }
   ],
   "source": [
    "year_count"
   ]
  },
  {
   "cell_type": "code",
   "execution_count": 45,
   "id": "9d16f9cd",
   "metadata": {},
   "outputs": [
    {
     "data": {
      "image/png": "[encoded data removed]",
      "text/plain": [
       "<Figure size 432x288 with 1 Axes>"
      ]
     },
     "metadata": {
      "needs_background": "light"
     },
     "output_type": "display_data"
    }
   ],
   "source": [
    "sns.lineplot(data=year_count)\n",
    "plt.title('Release of Movies Per Year')\n",
    "plt.xlim(1990,2020)\n",
    "plt.xlabel('Release years')\n",
    "plt.ylabel('Total count ')\n",
    "plt.show()"
   ]
  },
  {
   "cell_type": "code",
   "execution_count": 46,
   "id": "481ca054",
   "metadata": {},
   "outputs": [],
   "source": [
    "#Bivariate Analysis"
   ]
  },
  {
   "cell_type": "code",
   "execution_count": 47,
   "id": "076aa0a4",
   "metadata": {},
   "outputs": [
    {
     "data": {
      "text/plain": [
       "Index(['Unnamed: 0', 'Movie_Titles', 'Director', 'Genre', 'IMDB_Ratings',\n",
       "       'Votes', 'Certificate', 'Gross', 'Years'],\n",
       "      dtype='object')"
      ]
     },
     "execution_count": 47,
     "metadata": {},
     "output_type": "execute_result"
    }
   ],
   "source": [
    "df.columns"
   ]
  },
  {
   "cell_type": "code",
   "execution_count": 48,
   "id": "a3dd78a8",
   "metadata": {},
   "outputs": [],
   "source": [
    "# high votes movies\n",
    "top_movies = df.sort_values(['Votes','Gross'], ascending = False)[['Movie_Titles','Votes','Gross']].head(10)"
   ]
  },
  {
   "cell_type": "code",
   "execution_count": 49,
   "id": "5bb22270",
   "metadata": {},
   "outputs": [
    {
     "data": {
      "text/html": [
       "<div>\n",
       "<style scoped>\n",
       "    .dataframe tbody tr th:only-of-type {\n",
       "        vertical-align: middle;\n",
       "    }\n",
       "\n",
       "    .dataframe tbody tr th {\n",
       "        vertical-align: top;\n",
       "    }\n",
       "\n",
       "    .dataframe thead th {\n",
       "        text-align: right;\n",
       "    }\n",
       "</style>\n",
       "<table border=\"1\" class=\"dataframe\">\n",
       "  <thead>\n",
       "    <tr style=\"text-align: right;\">\n",
       "      <th></th>\n",
       "      <th>Movie_Titles</th>\n",
       "      <th>Votes</th>\n",
       "      <th>Gross</th>\n",
       "    </tr>\n",
       "  </thead>\n",
       "  <tbody>\n",
       "    <tr>\n",
       "      <th>0</th>\n",
       "      <td>The Shawshank Redemption</td>\n",
       "      <td>2614970</td>\n",
       "      <td>28.34</td>\n",
       "    </tr>\n",
       "    <tr>\n",
       "      <th>2</th>\n",
       "      <td>The Dark Knight</td>\n",
       "      <td>2587139</td>\n",
       "      <td>534.86</td>\n",
       "    </tr>\n",
       "    <tr>\n",
       "      <th>9</th>\n",
       "      <td>Inception</td>\n",
       "      <td>2294730</td>\n",
       "      <td>292.58</td>\n",
       "    </tr>\n",
       "    <tr>\n",
       "      <th>11</th>\n",
       "      <td>Fight Club</td>\n",
       "      <td>2061027</td>\n",
       "      <td>37.03</td>\n",
       "    </tr>\n",
       "    <tr>\n",
       "      <th>13</th>\n",
       "      <td>Forrest Gump</td>\n",
       "      <td>2021825</td>\n",
       "      <td>330.25</td>\n",
       "    </tr>\n",
       "    <tr>\n",
       "      <th>8</th>\n",
       "      <td>Pulp Fiction</td>\n",
       "      <td>2003274</td>\n",
       "      <td>107.93</td>\n",
       "    </tr>\n",
       "    <tr>\n",
       "      <th>16</th>\n",
       "      <td>The Matrix</td>\n",
       "      <td>1875232</td>\n",
       "      <td>171.48</td>\n",
       "    </tr>\n",
       "    <tr>\n",
       "      <th>12</th>\n",
       "      <td>The Lord of the Rings: The Fellowship of the Ring</td>\n",
       "      <td>1815906</td>\n",
       "      <td>315.54</td>\n",
       "    </tr>\n",
       "    <tr>\n",
       "      <th>1</th>\n",
       "      <td>The Godfather</td>\n",
       "      <td>1810374</td>\n",
       "      <td>134.97</td>\n",
       "    </tr>\n",
       "    <tr>\n",
       "      <th>3</th>\n",
       "      <td>The Lord of the Rings: The Return of the King</td>\n",
       "      <td>1794699</td>\n",
       "      <td>377.85</td>\n",
       "    </tr>\n",
       "  </tbody>\n",
       "</table>\n",
       "</div>"
      ],
      "text/plain": [
       "                                         Movie_Titles    Votes   Gross\n",
       "0                            The Shawshank Redemption  2614970   28.34\n",
       "2                                     The Dark Knight  2587139  534.86\n",
       "9                                           Inception  2294730  292.58\n",
       "11                                         Fight Club  2061027   37.03\n",
       "13                                       Forrest Gump  2021825  330.25\n",
       "8                                        Pulp Fiction  2003274  107.93\n",
       "16                                         The Matrix  1875232  171.48\n",
       "12  The Lord of the Rings: The Fellowship of the Ring  1815906  315.54\n",
       "1                                       The Godfather  1810374  134.97\n",
       "3       The Lord of the Rings: The Return of the King  1794699  377.85"
      ]
     },
     "execution_count": 49,
     "metadata": {},
     "output_type": "execute_result"
    }
   ],
   "source": [
    "top_movies"
   ]
  },
  {
   "cell_type": "code",
   "execution_count": 50,
   "id": "bde9cc8d",
   "metadata": {},
   "outputs": [
    {
     "data": {
      "image/png": "[encoded data removed]",
      "text/plain": [
       "<Figure size 432x360 with 1 Axes>"
      ]
     },
     "metadata": {
      "needs_background": "light"
     },
     "output_type": "display_data"
    }
   ],
   "source": [
    "top_movies.plot(kind='bar', x='Movie_Titles', y= 'Votes', figsize=(6,5), color='brown', rot=45)\n",
    "plt.title(' TOP 10 POPULAR MOVIES WITH HIGH VOTES')\n",
    "plt.xlabel('Movies')\n",
    "plt.ylabel('Votes')\n",
    "plt.show()"
   ]
  },
  {
   "cell_type": "code",
   "execution_count": 51,
   "id": "7619d254",
   "metadata": {},
   "outputs": [],
   "source": [
    "top_movies = df.sort_values(['Gross','Votes'], ascending = False)[['Movie_Titles','Votes','Gross']].head(10)"
   ]
  },
  {
   "cell_type": "code",
   "execution_count": 52,
   "id": "570a4b56",
   "metadata": {},
   "outputs": [
    {
     "data": {
      "text/html": [
       "<div>\n",
       "<style scoped>\n",
       "    .dataframe tbody tr th:only-of-type {\n",
       "        vertical-align: middle;\n",
       "    }\n",
       "\n",
       "    .dataframe tbody tr th {\n",
       "        vertical-align: top;\n",
       "    }\n",
       "\n",
       "    .dataframe thead th {\n",
       "        text-align: right;\n",
       "    }\n",
       "</style>\n",
       "<table border=\"1\" class=\"dataframe\">\n",
       "  <thead>\n",
       "    <tr style=\"text-align: right;\">\n",
       "      <th></th>\n",
       "      <th>Movie_Titles</th>\n",
       "      <th>Votes</th>\n",
       "      <th>Gross</th>\n",
       "    </tr>\n",
       "  </thead>\n",
       "  <tbody>\n",
       "    <tr>\n",
       "      <th>65</th>\n",
       "      <td>Avengers: Endgame</td>\n",
       "      <td>1079473</td>\n",
       "      <td>858.37</td>\n",
       "    </tr>\n",
       "    <tr>\n",
       "      <th>101</th>\n",
       "      <td>Spider-Man: No Way Home</td>\n",
       "      <td>687592</td>\n",
       "      <td>804.75</td>\n",
       "    </tr>\n",
       "    <tr>\n",
       "      <th>66</th>\n",
       "      <td>Avengers: Infinity War</td>\n",
       "      <td>1037588</td>\n",
       "      <td>678.82</td>\n",
       "    </tr>\n",
       "    <tr>\n",
       "      <th>368</th>\n",
       "      <td>The Avengers</td>\n",
       "      <td>1367434</td>\n",
       "      <td>623.28</td>\n",
       "    </tr>\n",
       "    <tr>\n",
       "      <th>2</th>\n",
       "      <td>The Dark Knight</td>\n",
       "      <td>2587139</td>\n",
       "      <td>534.86</td>\n",
       "    </tr>\n",
       "    <tr>\n",
       "      <th>69</th>\n",
       "      <td>The Dark Knight Rises</td>\n",
       "      <td>1669431</td>\n",
       "      <td>448.14</td>\n",
       "    </tr>\n",
       "    <tr>\n",
       "      <th>49</th>\n",
       "      <td>The Lion King</td>\n",
       "      <td>1035796</td>\n",
       "      <td>422.78</td>\n",
       "    </tr>\n",
       "    <tr>\n",
       "      <th>104</th>\n",
       "      <td>Toy Story 3</td>\n",
       "      <td>822326</td>\n",
       "      <td>415.00</td>\n",
       "    </tr>\n",
       "    <tr>\n",
       "      <th>176</th>\n",
       "      <td>Jurassic Park</td>\n",
       "      <td>968394</td>\n",
       "      <td>402.45</td>\n",
       "    </tr>\n",
       "    <tr>\n",
       "      <th>241</th>\n",
       "      <td>Harry Potter and the Deathly Hallows: Part 2</td>\n",
       "      <td>856200</td>\n",
       "      <td>381.01</td>\n",
       "    </tr>\n",
       "  </tbody>\n",
       "</table>\n",
       "</div>"
      ],
      "text/plain": [
       "                                     Movie_Titles    Votes   Gross\n",
       "65                              Avengers: Endgame  1079473  858.37\n",
       "101                       Spider-Man: No Way Home   687592  804.75\n",
       "66                         Avengers: Infinity War  1037588  678.82\n",
       "368                                  The Avengers  1367434  623.28\n",
       "2                                 The Dark Knight  2587139  534.86\n",
       "69                          The Dark Knight Rises  1669431  448.14\n",
       "49                                  The Lion King  1035796  422.78\n",
       "104                                   Toy Story 3   822326  415.00\n",
       "176                                 Jurassic Park   968394  402.45\n",
       "241  Harry Potter and the Deathly Hallows: Part 2   856200  381.01"
      ]
     },
     "execution_count": 52,
     "metadata": {},
     "output_type": "execute_result"
    }
   ],
   "source": [
    "top_movies"
   ]
  },
  {
   "cell_type": "code",
   "execution_count": 53,
   "id": "46e592e2",
   "metadata": {},
   "outputs": [
    {
     "data": {
      "image/png": "[encoded data removed]",
      "text/plain": [
       "<Figure size 576x288 with 1 Axes>"
      ]
     },
     "metadata": {
      "needs_background": "light"
     },
     "output_type": "display_data"
    }
   ],
   "source": [
    "top_movies.plot(kind='bar', x='Movie_Titles', y= 'Gross', figsize=(8,4), color='brown', rot=90)\n",
    "plt.title(' TOP 10 POPULAR MOVIES WITH HIGH GROSS RATE')\n",
    "plt.xlabel('Movies')\n",
    "plt.ylabel('Gross')\n",
    "plt.show()"
   ]
  },
  {
   "cell_type": "code",
   "execution_count": 54,
   "id": "a851c4ae",
   "metadata": {},
   "outputs": [],
   "source": [
    "lowrated_movies = df.sort_values(['Votes','Gross'], ascending = True)[['Movie_Titles','Votes','Gross']].head(10)"
   ]
  },
  {
   "cell_type": "code",
   "execution_count": 55,
   "id": "7b40f2df",
   "metadata": {},
   "outputs": [
    {
     "data": {
      "text/html": [
       "<div>\n",
       "<style scoped>\n",
       "    .dataframe tbody tr th:only-of-type {\n",
       "        vertical-align: middle;\n",
       "    }\n",
       "\n",
       "    .dataframe tbody tr th {\n",
       "        vertical-align: top;\n",
       "    }\n",
       "\n",
       "    .dataframe thead th {\n",
       "        text-align: right;\n",
       "    }\n",
       "</style>\n",
       "<table border=\"1\" class=\"dataframe\">\n",
       "  <thead>\n",
       "    <tr style=\"text-align: right;\">\n",
       "      <th></th>\n",
       "      <th>Movie_Titles</th>\n",
       "      <th>Votes</th>\n",
       "      <th>Gross</th>\n",
       "    </tr>\n",
       "  </thead>\n",
       "  <tbody>\n",
       "    <tr>\n",
       "      <th>259</th>\n",
       "      <td>Her Sey Çok Güzel Olacak</td>\n",
       "      <td>25429</td>\n",
       "      <td>79.785437</td>\n",
       "    </tr>\n",
       "    <tr>\n",
       "      <th>262</th>\n",
       "      <td>Sarfarosh</td>\n",
       "      <td>25606</td>\n",
       "      <td>79.785437</td>\n",
       "    </tr>\n",
       "    <tr>\n",
       "      <th>197</th>\n",
       "      <td>Umberto D.</td>\n",
       "      <td>25741</td>\n",
       "      <td>0.070000</td>\n",
       "    </tr>\n",
       "    <tr>\n",
       "      <th>285</th>\n",
       "      <td>Jean de Florette</td>\n",
       "      <td>25811</td>\n",
       "      <td>4.940000</td>\n",
       "    </tr>\n",
       "    <tr>\n",
       "      <th>34</th>\n",
       "      <td>Kaithi</td>\n",
       "      <td>27184</td>\n",
       "      <td>79.785437</td>\n",
       "    </tr>\n",
       "    <tr>\n",
       "      <th>35</th>\n",
       "      <td>Asuran</td>\n",
       "      <td>27396</td>\n",
       "      <td>79.785437</td>\n",
       "    </tr>\n",
       "    <tr>\n",
       "      <th>213</th>\n",
       "      <td>Masaan</td>\n",
       "      <td>27782</td>\n",
       "      <td>79.785437</td>\n",
       "    </tr>\n",
       "    <tr>\n",
       "      <th>374</th>\n",
       "      <td>Dare mo shiranai</td>\n",
       "      <td>27850</td>\n",
       "      <td>0.680000</td>\n",
       "    </tr>\n",
       "    <tr>\n",
       "      <th>188</th>\n",
       "      <td>Z</td>\n",
       "      <td>28589</td>\n",
       "      <td>0.080000</td>\n",
       "    </tr>\n",
       "    <tr>\n",
       "      <th>278</th>\n",
       "      <td>Ba wang bie ji</td>\n",
       "      <td>28674</td>\n",
       "      <td>5.220000</td>\n",
       "    </tr>\n",
       "  </tbody>\n",
       "</table>\n",
       "</div>"
      ],
      "text/plain": [
       "                 Movie_Titles  Votes      Gross\n",
       "259  Her Sey Çok Güzel Olacak  25429  79.785437\n",
       "262                 Sarfarosh  25606  79.785437\n",
       "197                Umberto D.  25741   0.070000\n",
       "285          Jean de Florette  25811   4.940000\n",
       "34                     Kaithi  27184  79.785437\n",
       "35                     Asuran  27396  79.785437\n",
       "213                    Masaan  27782  79.785437\n",
       "374          Dare mo shiranai  27850   0.680000\n",
       "188                         Z  28589   0.080000\n",
       "278            Ba wang bie ji  28674   5.220000"
      ]
     },
     "execution_count": 55,
     "metadata": {},
     "output_type": "execute_result"
    }
   ],
   "source": [
    "lowrated_movies"
   ]
  },
  {
   "cell_type": "code",
   "execution_count": 56,
   "id": "f68f0c58",
   "metadata": {},
   "outputs": [
    {
     "data": {
      "image/png": "[encoded data removed]",
      "text/plain": [
       "<Figure size 432x360 with 1 Axes>"
      ]
     },
     "metadata": {
      "needs_background": "light"
     },
     "output_type": "display_data"
    }
   ],
   "source": [
    "lowrated_movies.plot(kind='bar', x='Movie_Titles', y= 'Votes', figsize=(6,5), color='brown', rot=90)\n",
    "plt.title(' TOP 10 POPULAR MOVIES WITH HIGH GROSS RATE')\n",
    "plt.xlabel('Movies')\n",
    "plt.ylabel('Gross')\n",
    "plt.show()"
   ]
  },
  {
   "cell_type": "code",
   "execution_count": 57,
   "id": "79e4ed05",
   "metadata": {},
   "outputs": [
    {
     "data": {
      "text/plain": [
       "Akira Kurosawa       9\n",
       "Martin Scorsese      7\n",
       "Christopher Nolan    7\n",
       "Steven Spielberg     7\n",
       "Stanley Kubrick      7\n",
       "Alfred Hitchcock     6\n",
       "Charles Chaplin      6\n",
       "Quentin Tarantino    6\n",
       "Ingmar Bergman       6\n",
       "Billy Wilder         6\n",
       "Name: Director, dtype: int64"
      ]
     },
     "execution_count": 57,
     "metadata": {},
     "output_type": "execute_result"
    }
   ],
   "source": [
    "df.Director.value_counts().head(10)"
   ]
  },
  {
   "cell_type": "code",
   "execution_count": 58,
   "id": "7df4dbad",
   "metadata": {},
   "outputs": [
    {
     "data": {
      "text/html": [
       "<div>\n",
       "<style scoped>\n",
       "    .dataframe tbody tr th:only-of-type {\n",
       "        vertical-align: middle;\n",
       "    }\n",
       "\n",
       "    .dataframe tbody tr th {\n",
       "        vertical-align: top;\n",
       "    }\n",
       "\n",
       "    .dataframe thead th {\n",
       "        text-align: right;\n",
       "    }\n",
       "</style>\n",
       "<table border=\"1\" class=\"dataframe\">\n",
       "  <thead>\n",
       "    <tr style=\"text-align: right;\">\n",
       "      <th></th>\n",
       "      <th>Gross</th>\n",
       "    </tr>\n",
       "    <tr>\n",
       "      <th>Director</th>\n",
       "      <th></th>\n",
       "    </tr>\n",
       "  </thead>\n",
       "  <tbody>\n",
       "    <tr>\n",
       "      <th>Jon Watts</th>\n",
       "      <td>804.750000</td>\n",
       "    </tr>\n",
       "    <tr>\n",
       "      <th>Anthony Russo,</th>\n",
       "      <td>768.595000</td>\n",
       "    </tr>\n",
       "    <tr>\n",
       "      <th>Joss Whedon</th>\n",
       "      <td>623.280000</td>\n",
       "    </tr>\n",
       "    <tr>\n",
       "      <th>Roger Allers,</th>\n",
       "      <td>422.780000</td>\n",
       "    </tr>\n",
       "    <tr>\n",
       "      <th>Lee Unkrich</th>\n",
       "      <td>415.000000</td>\n",
       "    </tr>\n",
       "    <tr>\n",
       "      <th>David Yates</th>\n",
       "      <td>381.010000</td>\n",
       "    </tr>\n",
       "    <tr>\n",
       "      <th>Andrew Stanton,</th>\n",
       "      <td>380.840000</td>\n",
       "    </tr>\n",
       "    <tr>\n",
       "      <th>Tim Miller</th>\n",
       "      <td>363.070000</td>\n",
       "    </tr>\n",
       "    <tr>\n",
       "      <th>Peter Jackson</th>\n",
       "      <td>345.313333</td>\n",
       "    </tr>\n",
       "    <tr>\n",
       "      <th>Byron Howard,</th>\n",
       "      <td>341.270000</td>\n",
       "    </tr>\n",
       "  </tbody>\n",
       "</table>\n",
       "</div>"
      ],
      "text/plain": [
       "                       Gross\n",
       "Director                    \n",
       "Jon Watts         804.750000\n",
       "Anthony Russo,    768.595000\n",
       "Joss Whedon       623.280000\n",
       "Roger Allers,     422.780000\n",
       "Lee Unkrich       415.000000\n",
       "David Yates       381.010000\n",
       "Andrew Stanton,   380.840000\n",
       "Tim Miller        363.070000\n",
       "Peter Jackson     345.313333\n",
       "Byron Howard,     341.270000"
      ]
     },
     "execution_count": 58,
     "metadata": {},
     "output_type": "execute_result"
    }
   ],
   "source": [
    "revenue_directors = df.groupby('Director').agg({'Gross': 'mean'})\n",
    "top_5_revenue_directors = revenue_directors.sort_values('Gross', ascending=False)[:10]\n",
    "top_5_revenue_directors"
   ]
  },
  {
   "cell_type": "code",
   "execution_count": 59,
   "id": "f28e0b2b",
   "metadata": {},
   "outputs": [
    {
     "data": {
      "image/png": "[encoded data removed]",
      "text/plain": [
       "<Figure size 432x288 with 1 Axes>"
      ]
     },
     "metadata": {
      "needs_background": "light"
     },
     "output_type": "display_data"
    }
   ],
   "source": [
    "ax = top_5_revenue_directors['Gross'].plot.bar();\n",
    "ax.set_ylabel('Gross in Millions')\n",
    "ax.set_title('Average Revenue of Top 10 Directors by Revenue', y=1.02)\n",
    "ax.set_xticklabels(top_5_revenue_directors.index, rotation = 45);"
   ]
  },
  {
   "cell_type": "code",
   "execution_count": 60,
   "id": "f63a6ab8",
   "metadata": {},
   "outputs": [],
   "source": [
    "#Multivariate analysis"
   ]
  },
  {
   "cell_type": "code",
   "execution_count": 61,
   "id": "f7d5dcc2",
   "metadata": {},
   "outputs": [
    {
     "data": {
      "text/plain": [
       "Index(['Unnamed: 0', 'Movie_Titles', 'Director', 'Genre', 'IMDB_Ratings',\n",
       "       'Votes', 'Certificate', 'Gross', 'Years'],\n",
       "      dtype='object')"
      ]
     },
     "execution_count": 61,
     "metadata": {},
     "output_type": "execute_result"
    }
   ],
   "source": [
    "df.columns"
   ]
  },
  {
   "cell_type": "code",
   "execution_count": 62,
   "id": "0bc12c96",
   "metadata": {},
   "outputs": [
    {
     "data": {
      "text/plain": [
       "Action               82\n",
       "Crime                51\n",
       "Comedy               47\n",
       "Drama                36\n",
       "Biography            36\n",
       "Animation            33\n",
       "Adventure            26\n",
       "Mystery               5\n",
       "Horror                3\n",
       "Name: Genre, dtype: int64"
      ]
     },
     "execution_count": 62,
     "metadata": {},
     "output_type": "execute_result"
    }
   ],
   "source": [
    "Genre_count"
   ]
  },
  {
   "cell_type": "code",
   "execution_count": 63,
   "id": "3f1ed0eb",
   "metadata": {},
   "outputs": [
    {
     "data": {
      "image/png": "[encoded data removed]",
      "text/plain": [
       "<Figure size 435.75x360 with 1 Axes>"
      ]
     },
     "metadata": {
      "needs_background": "light"
     },
     "output_type": "display_data"
    }
   ],
   "source": [
    "sns.lmplot(x='Gross',y='Votes',markers=['o', 'x', '*','+'],hue='Genre',\n",
    "           data=df.loc[df['Genre'].isin(['Action','Drama','Crime','Mystery' ])],fit_reg=False)\n",
    "plt.title(\"GROSS REVENUE BY NUMBER OF VOTES\")\n",
    "plt.show()"
   ]
  },
  {
   "cell_type": "code",
   "execution_count": 64,
   "id": "e7a8f2e2",
   "metadata": {},
   "outputs": [
    {
     "data": {
      "text/plain": [
       "<seaborn.axisgrid.FacetGrid at 0x17da804e2b0>"
      ]
     },
     "execution_count": 64,
     "metadata": {},
     "output_type": "execute_result"
    },
    {
     "data": {
      "image/png": "[encoded data removed]",
      "text/plain": [
       "<Figure size 447.75x360 with 1 Axes>"
      ]
     },
     "metadata": {
      "needs_background": "light"
     },
     "output_type": "display_data"
    }
   ],
   "source": [
    "sns.lmplot(x='Gross',y='Votes',markers=['o', 'x', '*','+'],hue='Genre',\n",
    "           data=df.loc[df['Genre'].isin(['Comedy','Biography','Animation','Adventure' ])],fit_reg=False)"
   ]
  },
  {
   "cell_type": "code",
   "execution_count": 65,
   "id": "bf4602d4",
   "metadata": {},
   "outputs": [
    {
     "data": {
      "image/png": "[encoded data removed]",
      "text/plain": [
       "<Figure size 447.75x360 with 1 Axes>"
      ]
     },
     "metadata": {
      "needs_background": "light"
     },
     "output_type": "display_data"
    }
   ],
   "source": [
    "sns.lmplot(x='Gross',y='IMDB_Ratings',hue='Genre',\n",
    "           data=df.loc[df['Genre'].isin(['Comedy','Biography','Animation','Adventure','Action','Drama','Crime','Mystery' ])],fit_reg=False)\n",
    "plt.title(\"GROSS REVENUE BY RATING\")\n",
    "plt.show()"
   ]
  },
  {
   "cell_type": "code",
   "execution_count": 69,
   "id": "abafb619",
   "metadata": {},
   "outputs": [
    {
     "data": {
      "text/plain": [
       "<AxesSubplot:>"
      ]
     },
     "execution_count": 69,
     "metadata": {},
     "output_type": "execute_result"
    },
    {
     "data": {
      "image/png": "[encoded data removed]",
      "text/plain": [
       "<Figure size 432x288 with 2 Axes>"
      ]
     },
     "metadata": {
      "needs_background": "light"
     },
     "output_type": "display_data"
    }
   ],
   "source": [
    "sns.heatmap(df.corr(),annot=True)"
   ]
  },
  {
   "cell_type": "code",
   "execution_count": 70,
   "id": "350bcb32",
   "metadata": {},
   "outputs": [
    {
     "data": {
      "text/plain": [
       "Index(['Unnamed: 0', 'Movie_Titles', 'Director', 'Genre', 'IMDB_Ratings',\n",
       "       'Votes', 'Certificate', 'Gross', 'Years'],\n",
       "      dtype='object')"
      ]
     },
     "execution_count": 70,
     "metadata": {},
     "output_type": "execute_result"
    }
   ],
   "source": [
    "df.columns"
   ]
  },
  {
   "cell_type": "code",
   "execution_count": 71,
   "id": "9829561c",
   "metadata": {},
   "outputs": [],
   "source": [
    "df=df.drop('Unnamed: 0',axis=1)"
   ]
  },
  {
   "cell_type": "code",
   "execution_count": 72,
   "id": "2b9dcf96",
   "metadata": {},
   "outputs": [],
   "source": [
    "top_movies = df.sort_values(['Gross','IMDB_Ratings'], ascending = False)[['Movie_Titles','IMDB_Ratings','Gross']].head(10)"
   ]
  },
  {
   "cell_type": "code",
   "execution_count": 73,
   "id": "4802ce14",
   "metadata": {},
   "outputs": [
    {
     "data": {
      "text/html": [
       "<div>\n",
       "<style scoped>\n",
       "    .dataframe tbody tr th:only-of-type {\n",
       "        vertical-align: middle;\n",
       "    }\n",
       "\n",
       "    .dataframe tbody tr th {\n",
       "        vertical-align: top;\n",
       "    }\n",
       "\n",
       "    .dataframe thead th {\n",
       "        text-align: right;\n",
       "    }\n",
       "</style>\n",
       "<table border=\"1\" class=\"dataframe\">\n",
       "  <thead>\n",
       "    <tr style=\"text-align: right;\">\n",
       "      <th></th>\n",
       "      <th>Movie_Titles</th>\n",
       "      <th>IMDB_Ratings</th>\n",
       "      <th>Gross</th>\n",
       "    </tr>\n",
       "  </thead>\n",
       "  <tbody>\n",
       "    <tr>\n",
       "      <th>65</th>\n",
       "      <td>Avengers: Endgame</td>\n",
       "      <td>8.4</td>\n",
       "      <td>858.37</td>\n",
       "    </tr>\n",
       "    <tr>\n",
       "      <th>101</th>\n",
       "      <td>Spider-Man: No Way Home</td>\n",
       "      <td>8.3</td>\n",
       "      <td>804.75</td>\n",
       "    </tr>\n",
       "    <tr>\n",
       "      <th>66</th>\n",
       "      <td>Avengers: Infinity War</td>\n",
       "      <td>8.4</td>\n",
       "      <td>678.82</td>\n",
       "    </tr>\n",
       "    <tr>\n",
       "      <th>368</th>\n",
       "      <td>The Avengers</td>\n",
       "      <td>8.0</td>\n",
       "      <td>623.28</td>\n",
       "    </tr>\n",
       "    <tr>\n",
       "      <th>2</th>\n",
       "      <td>The Dark Knight</td>\n",
       "      <td>9.0</td>\n",
       "      <td>534.86</td>\n",
       "    </tr>\n",
       "    <tr>\n",
       "      <th>69</th>\n",
       "      <td>The Dark Knight Rises</td>\n",
       "      <td>8.4</td>\n",
       "      <td>448.14</td>\n",
       "    </tr>\n",
       "    <tr>\n",
       "      <th>49</th>\n",
       "      <td>The Lion King</td>\n",
       "      <td>8.5</td>\n",
       "      <td>422.78</td>\n",
       "    </tr>\n",
       "    <tr>\n",
       "      <th>104</th>\n",
       "      <td>Toy Story 3</td>\n",
       "      <td>8.3</td>\n",
       "      <td>415.00</td>\n",
       "    </tr>\n",
       "    <tr>\n",
       "      <th>176</th>\n",
       "      <td>Jurassic Park</td>\n",
       "      <td>8.2</td>\n",
       "      <td>402.45</td>\n",
       "    </tr>\n",
       "    <tr>\n",
       "      <th>241</th>\n",
       "      <td>Harry Potter and the Deathly Hallows: Part 2</td>\n",
       "      <td>8.1</td>\n",
       "      <td>381.01</td>\n",
       "    </tr>\n",
       "  </tbody>\n",
       "</table>\n",
       "</div>"
      ],
      "text/plain": [
       "                                     Movie_Titles  IMDB_Ratings   Gross\n",
       "65                              Avengers: Endgame           8.4  858.37\n",
       "101                       Spider-Man: No Way Home           8.3  804.75\n",
       "66                         Avengers: Infinity War           8.4  678.82\n",
       "368                                  The Avengers           8.0  623.28\n",
       "2                                 The Dark Knight           9.0  534.86\n",
       "69                          The Dark Knight Rises           8.4  448.14\n",
       "49                                  The Lion King           8.5  422.78\n",
       "104                                   Toy Story 3           8.3  415.00\n",
       "176                                 Jurassic Park           8.2  402.45\n",
       "241  Harry Potter and the Deathly Hallows: Part 2           8.1  381.01"
      ]
     },
     "execution_count": 73,
     "metadata": {},
     "output_type": "execute_result"
    }
   ],
   "source": [
    "top_movies"
   ]
  },
  {
   "cell_type": "code",
   "execution_count": 74,
   "id": "63adb43b",
   "metadata": {},
   "outputs": [
    {
     "data": {
      "image/png": "[encoded data removed]",
      "text/plain": [
       "<Figure size 617.375x360 with 1 Axes>"
      ]
     },
     "metadata": {
      "needs_background": "light"
     },
     "output_type": "display_data"
    }
   ],
   "source": [
    "sns.lmplot(x='Gross',y='IMDB_Ratings',hue='Movie_Titles',\n",
    "           data=top_movies,fit_reg=False) #positive correlation\n",
    "plt.title(\"TOP MOVIE RATINGS BY REVENUE\")\n",
    "plt.show()"
   ]
  },
  {
   "cell_type": "code",
   "execution_count": 75,
   "id": "a4475181",
   "metadata": {},
   "outputs": [
    {
     "data": {
      "text/html": [
       "<div>\n",
       "<style scoped>\n",
       "    .dataframe tbody tr th:only-of-type {\n",
       "        vertical-align: middle;\n",
       "    }\n",
       "\n",
       "    .dataframe tbody tr th {\n",
       "        vertical-align: top;\n",
       "    }\n",
       "\n",
       "    .dataframe thead th {\n",
       "        text-align: right;\n",
       "    }\n",
       "</style>\n",
       "<table border=\"1\" class=\"dataframe\">\n",
       "  <thead>\n",
       "    <tr style=\"text-align: right;\">\n",
       "      <th></th>\n",
       "      <th>Movie_Titles</th>\n",
       "      <th>Director</th>\n",
       "      <th>Genre</th>\n",
       "      <th>IMDB_Ratings</th>\n",
       "      <th>Votes</th>\n",
       "      <th>Certificate</th>\n",
       "      <th>Gross</th>\n",
       "      <th>Years</th>\n",
       "    </tr>\n",
       "  </thead>\n",
       "  <tbody>\n",
       "    <tr>\n",
       "      <th>0</th>\n",
       "      <td>The Shawshank Redemption</td>\n",
       "      <td>Frank Darabont</td>\n",
       "      <td>Drama</td>\n",
       "      <td>9.3</td>\n",
       "      <td>2614970</td>\n",
       "      <td>A</td>\n",
       "      <td>28.34</td>\n",
       "      <td>1994</td>\n",
       "    </tr>\n",
       "    <tr>\n",
       "      <th>1</th>\n",
       "      <td>The Godfather</td>\n",
       "      <td>Francis Ford Coppola</td>\n",
       "      <td>Crime</td>\n",
       "      <td>9.2</td>\n",
       "      <td>1810374</td>\n",
       "      <td>A</td>\n",
       "      <td>134.97</td>\n",
       "      <td>1972</td>\n",
       "    </tr>\n",
       "    <tr>\n",
       "      <th>2</th>\n",
       "      <td>The Dark Knight</td>\n",
       "      <td>Christopher Nolan</td>\n",
       "      <td>Action</td>\n",
       "      <td>9.0</td>\n",
       "      <td>2587139</td>\n",
       "      <td>UA</td>\n",
       "      <td>534.86</td>\n",
       "      <td>2008</td>\n",
       "    </tr>\n",
       "    <tr>\n",
       "      <th>3</th>\n",
       "      <td>The Lord of the Rings: The Return of the King</td>\n",
       "      <td>Peter Jackson</td>\n",
       "      <td>Action</td>\n",
       "      <td>9.0</td>\n",
       "      <td>1794699</td>\n",
       "      <td>U</td>\n",
       "      <td>377.85</td>\n",
       "      <td>2003</td>\n",
       "    </tr>\n",
       "    <tr>\n",
       "      <th>4</th>\n",
       "      <td>Schindler's List</td>\n",
       "      <td>Steven Spielberg</td>\n",
       "      <td>Biography</td>\n",
       "      <td>9.0</td>\n",
       "      <td>1328819</td>\n",
       "      <td>A</td>\n",
       "      <td>96.90</td>\n",
       "      <td>1993</td>\n",
       "    </tr>\n",
       "    <tr>\n",
       "      <th>...</th>\n",
       "      <td>...</td>\n",
       "      <td>...</td>\n",
       "      <td>...</td>\n",
       "      <td>...</td>\n",
       "      <td>...</td>\n",
       "      <td>...</td>\n",
       "      <td>...</td>\n",
       "      <td>...</td>\n",
       "    </tr>\n",
       "    <tr>\n",
       "      <th>395</th>\n",
       "      <td>Central do Brasil</td>\n",
       "      <td>Walter Salles</td>\n",
       "      <td>Drama</td>\n",
       "      <td>8.0</td>\n",
       "      <td>39517</td>\n",
       "      <td>R</td>\n",
       "      <td>5.60</td>\n",
       "      <td>1998</td>\n",
       "    </tr>\n",
       "    <tr>\n",
       "      <th>396</th>\n",
       "      <td>La leggenda del pianista sull'oceano</td>\n",
       "      <td>Giuseppe Tornatore</td>\n",
       "      <td>Drama</td>\n",
       "      <td>8.0</td>\n",
       "      <td>63966</td>\n",
       "      <td>Not Rated</td>\n",
       "      <td>0.26</td>\n",
       "      <td>1998</td>\n",
       "    </tr>\n",
       "    <tr>\n",
       "      <th>397</th>\n",
       "      <td>Crna macka, beli macor</td>\n",
       "      <td>Emir Kusturica</td>\n",
       "      <td>Comedy</td>\n",
       "      <td>8.0</td>\n",
       "      <td>53595</td>\n",
       "      <td>R</td>\n",
       "      <td>0.35</td>\n",
       "      <td>1998</td>\n",
       "    </tr>\n",
       "    <tr>\n",
       "      <th>398</th>\n",
       "      <td>Sling Blade</td>\n",
       "      <td>Billy Bob Thornton</td>\n",
       "      <td>Drama</td>\n",
       "      <td>8.0</td>\n",
       "      <td>93627</td>\n",
       "      <td>R</td>\n",
       "      <td>24.48</td>\n",
       "      <td>1996</td>\n",
       "    </tr>\n",
       "    <tr>\n",
       "      <th>399</th>\n",
       "      <td>Secrets &amp; Lies</td>\n",
       "      <td>Mike Leigh</td>\n",
       "      <td>Comedy</td>\n",
       "      <td>8.0</td>\n",
       "      <td>43180</td>\n",
       "      <td>U</td>\n",
       "      <td>13.42</td>\n",
       "      <td>1996</td>\n",
       "    </tr>\n",
       "  </tbody>\n",
       "</table>\n",
       "<p>400 rows × 8 columns</p>\n",
       "</div>"
      ],
      "text/plain": [
       "                                      Movie_Titles              Director  \\\n",
       "0                         The Shawshank Redemption        Frank Darabont   \n",
       "1                                    The Godfather  Francis Ford Coppola   \n",
       "2                                  The Dark Knight     Christopher Nolan   \n",
       "3    The Lord of the Rings: The Return of the King         Peter Jackson   \n",
       "4                                 Schindler's List      Steven Spielberg   \n",
       "..                                             ...                   ...   \n",
       "395                              Central do Brasil         Walter Salles   \n",
       "396           La leggenda del pianista sull'oceano    Giuseppe Tornatore   \n",
       "397                         Crna macka, beli macor        Emir Kusturica   \n",
       "398                                    Sling Blade    Billy Bob Thornton   \n",
       "399                                 Secrets & Lies            Mike Leigh   \n",
       "\n",
       "                 Genre  IMDB_Ratings    Votes Certificate   Gross  Years  \n",
       "0    Drama                       9.3  2614970           A   28.34   1994  \n",
       "1                Crime           9.2  1810374           A  134.97   1972  \n",
       "2               Action           9.0  2587139          UA  534.86   2008  \n",
       "3               Action           9.0  1794699           U  377.85   2003  \n",
       "4            Biography           9.0  1328819           A   96.90   1993  \n",
       "..                 ...           ...      ...         ...     ...    ...  \n",
       "395  Drama                       8.0    39517           R    5.60   1998  \n",
       "396              Drama           8.0    63966   Not Rated    0.26   1998  \n",
       "397             Comedy           8.0    53595           R    0.35   1998  \n",
       "398  Drama                       8.0    93627           R   24.48   1996  \n",
       "399             Comedy           8.0    43180           U   13.42   1996  \n",
       "\n",
       "[400 rows x 8 columns]"
      ]
     },
     "execution_count": 75,
     "metadata": {},
     "output_type": "execute_result"
    }
   ],
   "source": [
    "df"
   ]
  },
  {
   "cell_type": "code",
   "execution_count": null,
   "id": "9632783f",
   "metadata": {},
   "outputs": [],
   "source": []
  }
 ],
 "metadata": {
  "kernelspec": {
   "display_name": "Python 3 (ipykernel)",
   "language": "python",
   "name": "python3"
  },
  "language_info": {
   "codemirror_mode": {
    "name": "ipython",
    "version": 3
   },
   "file_extension": ".py",
   "mimetype": "text/x-python",
   "name": "python",
   "nbconvert_exporter": "python",
   "pygments_lexer": "ipython3",
   "version": "3.9.7"
  }
 },
 "nbformat": 4,
 "nbformat_minor": 5
}
